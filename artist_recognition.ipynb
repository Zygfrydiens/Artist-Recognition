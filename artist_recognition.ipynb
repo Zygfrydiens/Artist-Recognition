{
 "cells": [
  {
   "cell_type": "markdown",
   "metadata": {},
   "source": [
    "# Using convoluted neural network for artist prediction based on given artwork\n",
    "\n",
    "## In this notebook:\n",
    "- **About the dataset**\n",
    "- **Project**\n",
    "    - Libraries\n",
    "    - Loading data\n",
    "    - Data augemntation\n",
    "\n",
    "\n",
    "\n",
    "# About the dataset\n",
    "\n",
    "This dataset contains artworks of the 50 most influential artists of all time. This dataset contains three files:\n",
    "\n",
    "* artists.csv: dataset of information for each artist\n",
    "* images.zip: collection of images (full size), divided in folders and sequentially numbered\n",
    "* resized.zip: same collection but images have been resized and extracted from folder structure\n",
    "\n",
    "Source of dataset:https://www.kaggle.com/ikarus777/best-artworks-of-all-time\n",
    "\n",
    "\n",
    "\n",
    "\n",
    "## Libraries"
   ]
  },
  {
   "cell_type": "code",
   "execution_count": 21,
   "metadata": {},
   "outputs": [],
   "source": [
    "import pandas as pd\n",
    "import matplotlib.pyplot as plt\n",
    "import seaborn as sns\n",
    "import os\n",
    "from tensorflow.keras.preprocessing.image import ImageDataGenerator\n",
    "from matplotlib.image import imread\n",
    "import numpy as np\n",
    "from tensorflow.keras.models import Sequential\n",
    "from tensorflow.keras.layers import Activation, Dropout, Flatten, Dense, Conv2D, MaxPooling2D\n",
    "from tensorflow.keras.callbacks import EarlyStopping\n",
    "from sklearn.metrics import classification_report,confusion_matrix"
   ]
  },
  {
   "cell_type": "markdown",
   "metadata": {},
   "source": [
    "## Loading data"
   ]
  },
  {
   "cell_type": "code",
   "execution_count": 2,
   "metadata": {},
   "outputs": [
    {
     "data": {
      "text/html": [
       "<div>\n",
       "<style scoped>\n",
       "    .dataframe tbody tr th:only-of-type {\n",
       "        vertical-align: middle;\n",
       "    }\n",
       "\n",
       "    .dataframe tbody tr th {\n",
       "        vertical-align: top;\n",
       "    }\n",
       "\n",
       "    .dataframe thead th {\n",
       "        text-align: right;\n",
       "    }\n",
       "</style>\n",
       "<table border=\"1\" class=\"dataframe\">\n",
       "  <thead>\n",
       "    <tr style=\"text-align: right;\">\n",
       "      <th></th>\n",
       "      <th>id</th>\n",
       "      <th>name</th>\n",
       "      <th>years</th>\n",
       "      <th>genre</th>\n",
       "      <th>nationality</th>\n",
       "      <th>bio</th>\n",
       "      <th>wikipedia</th>\n",
       "      <th>paintings</th>\n",
       "    </tr>\n",
       "  </thead>\n",
       "  <tbody>\n",
       "    <tr>\n",
       "      <td>0</td>\n",
       "      <td>0</td>\n",
       "      <td>Amedeo Modigliani</td>\n",
       "      <td>1884 - 1920</td>\n",
       "      <td>Expressionism</td>\n",
       "      <td>Italian</td>\n",
       "      <td>Amedeo Clemente Modigliani (Italian pronunciat...</td>\n",
       "      <td>http://en.wikipedia.org/wiki/Amedeo_Modigliani</td>\n",
       "      <td>193</td>\n",
       "    </tr>\n",
       "    <tr>\n",
       "      <td>1</td>\n",
       "      <td>1</td>\n",
       "      <td>Vasiliy Kandinskiy</td>\n",
       "      <td>1866 - 1944</td>\n",
       "      <td>Expressionism,Abstractionism</td>\n",
       "      <td>Russian</td>\n",
       "      <td>Wassily Wassilyevich Kandinsky (Russian: Васи́...</td>\n",
       "      <td>http://en.wikipedia.org/wiki/Wassily_Kandinsky</td>\n",
       "      <td>88</td>\n",
       "    </tr>\n",
       "    <tr>\n",
       "      <td>2</td>\n",
       "      <td>2</td>\n",
       "      <td>Diego Rivera</td>\n",
       "      <td>1886 - 1957</td>\n",
       "      <td>Social Realism,Muralism</td>\n",
       "      <td>Mexican</td>\n",
       "      <td>Diego María de la Concepción Juan Nepomuceno E...</td>\n",
       "      <td>http://en.wikipedia.org/wiki/Diego_Rivera</td>\n",
       "      <td>70</td>\n",
       "    </tr>\n",
       "    <tr>\n",
       "      <td>3</td>\n",
       "      <td>3</td>\n",
       "      <td>Claude Monet</td>\n",
       "      <td>1840 - 1926</td>\n",
       "      <td>Impressionism</td>\n",
       "      <td>French</td>\n",
       "      <td>Oscar-Claude Monet (; French: [klod mɔnɛ]; 14 ...</td>\n",
       "      <td>http://en.wikipedia.org/wiki/Claude_Monet</td>\n",
       "      <td>73</td>\n",
       "    </tr>\n",
       "    <tr>\n",
       "      <td>4</td>\n",
       "      <td>4</td>\n",
       "      <td>Rene Magritte</td>\n",
       "      <td>1898 - 1967</td>\n",
       "      <td>Surrealism,Impressionism</td>\n",
       "      <td>Belgian</td>\n",
       "      <td>René François Ghislain Magritte (French: [ʁəne...</td>\n",
       "      <td>http://en.wikipedia.org/wiki/René_Magritte</td>\n",
       "      <td>194</td>\n",
       "    </tr>\n",
       "  </tbody>\n",
       "</table>\n",
       "</div>"
      ],
      "text/plain": [
       "   id                name        years                         genre  \\\n",
       "0   0   Amedeo Modigliani  1884 - 1920                 Expressionism   \n",
       "1   1  Vasiliy Kandinskiy  1866 - 1944  Expressionism,Abstractionism   \n",
       "2   2        Diego Rivera  1886 - 1957       Social Realism,Muralism   \n",
       "3   3        Claude Monet  1840 - 1926                 Impressionism   \n",
       "4   4       Rene Magritte  1898 - 1967      Surrealism,Impressionism   \n",
       "\n",
       "  nationality                                                bio  \\\n",
       "0     Italian  Amedeo Clemente Modigliani (Italian pronunciat...   \n",
       "1     Russian  Wassily Wassilyevich Kandinsky (Russian: Васи́...   \n",
       "2     Mexican  Diego María de la Concepción Juan Nepomuceno E...   \n",
       "3      French  Oscar-Claude Monet (; French: [klod mɔnɛ]; 14 ...   \n",
       "4     Belgian  René François Ghislain Magritte (French: [ʁəne...   \n",
       "\n",
       "                                        wikipedia  paintings  \n",
       "0  http://en.wikipedia.org/wiki/Amedeo_Modigliani        193  \n",
       "1  http://en.wikipedia.org/wiki/Wassily_Kandinsky         88  \n",
       "2       http://en.wikipedia.org/wiki/Diego_Rivera         70  \n",
       "3       http://en.wikipedia.org/wiki/Claude_Monet         73  \n",
       "4      http://en.wikipedia.org/wiki/René_Magritte        194  "
      ]
     },
     "execution_count": 2,
     "metadata": {},
     "output_type": "execute_result"
    }
   ],
   "source": [
    "DATA_DIR = \"E:/Artworks/data\"\n",
    "df = pd.read_csv(DATA_DIR + \"/datasets_130081_310927_artists.csv\")\n",
    "df.head()"
   ]
  },
  {
   "cell_type": "code",
   "execution_count": 3,
   "metadata": {},
   "outputs": [
    {
     "data": {
      "image/png": "[encoded data removed]",
      "text/plain": [
       "<Figure size 1440x720 with 1 Axes>"
      ]
     },
     "metadata": {
      "needs_background": "light"
     },
     "output_type": "display_data"
    }
   ],
   "source": [
    "plt.figure(figsize=(20,10))\n",
    "plt.bar(df[\"id\"], df[\"paintings\"])\n",
    "plt.title(\"Number of paintings per individual artist\", fontsize=24)\n",
    "plt.xlabel(\"Artists ID\", fontsize=14)\n",
    "plt.ylabel(\"Number of paintings\", fontsize=14)\n",
    "plt.show()"
   ]
  },
  {
   "cell_type": "markdown",
   "metadata": {},
   "source": [
    "There are many different artists and disproportion between number of artworks is big. Therefore I will chose 6 artists with most paintings"
   ]
  },
  {
   "cell_type": "code",
   "execution_count": 4,
   "metadata": {},
   "outputs": [
    {
     "data": {
      "text/html": [
       "<div>\n",
       "<style scoped>\n",
       "    .dataframe tbody tr th:only-of-type {\n",
       "        vertical-align: middle;\n",
       "    }\n",
       "\n",
       "    .dataframe tbody tr th {\n",
       "        vertical-align: top;\n",
       "    }\n",
       "\n",
       "    .dataframe thead th {\n",
       "        text-align: right;\n",
       "    }\n",
       "</style>\n",
       "<table border=\"1\" class=\"dataframe\">\n",
       "  <thead>\n",
       "    <tr style=\"text-align: right;\">\n",
       "      <th></th>\n",
       "      <th>id</th>\n",
       "      <th>name</th>\n",
       "      <th>years</th>\n",
       "      <th>genre</th>\n",
       "      <th>nationality</th>\n",
       "      <th>bio</th>\n",
       "      <th>wikipedia</th>\n",
       "      <th>paintings</th>\n",
       "    </tr>\n",
       "  </thead>\n",
       "  <tbody>\n",
       "    <tr>\n",
       "      <td>8</td>\n",
       "      <td>8</td>\n",
       "      <td>Vincent van Gogh</td>\n",
       "      <td>1853 – 1890</td>\n",
       "      <td>Post-Impressionism</td>\n",
       "      <td>Dutch</td>\n",
       "      <td>Vincent Willem van Gogh (Dutch: [ˈvɪnsɛnt ˈʋɪl...</td>\n",
       "      <td>http://en.wikipedia.org/wiki/Vincent_van_Gogh</td>\n",
       "      <td>877</td>\n",
       "    </tr>\n",
       "    <tr>\n",
       "      <td>30</td>\n",
       "      <td>30</td>\n",
       "      <td>Edgar Degas</td>\n",
       "      <td>1834 - 1917</td>\n",
       "      <td>Impressionism</td>\n",
       "      <td>French</td>\n",
       "      <td>Edgar Degas (US:  or UK: ; born Hilaire-Germai...</td>\n",
       "      <td>http://en.wikipedia.org/wiki/Edgar_Degas</td>\n",
       "      <td>702</td>\n",
       "    </tr>\n",
       "    <tr>\n",
       "      <td>13</td>\n",
       "      <td>13</td>\n",
       "      <td>Pablo Picasso</td>\n",
       "      <td>1881 - 1973</td>\n",
       "      <td>Cubism</td>\n",
       "      <td>Spanish</td>\n",
       "      <td>Pablo Ruiz Picasso (; Spanish: [ˈpaβlo piˈkaso...</td>\n",
       "      <td>http://en.wikipedia.org/wiki/Pablo_Picasso</td>\n",
       "      <td>439</td>\n",
       "    </tr>\n",
       "    <tr>\n",
       "      <td>15</td>\n",
       "      <td>15</td>\n",
       "      <td>Pierre-Auguste Renoir</td>\n",
       "      <td>1841 - 1919</td>\n",
       "      <td>Impressionism</td>\n",
       "      <td>French</td>\n",
       "      <td>Pierre-Auguste Renoir, commonly known as Augus...</td>\n",
       "      <td>http://en.wikipedia.org/wiki/Pierre-Auguste_Re...</td>\n",
       "      <td>336</td>\n",
       "    </tr>\n",
       "    <tr>\n",
       "      <td>19</td>\n",
       "      <td>19</td>\n",
       "      <td>Albrecht Dürer</td>\n",
       "      <td>1471 - 1528</td>\n",
       "      <td>Northern Renaissance</td>\n",
       "      <td>German</td>\n",
       "      <td>Albrecht Dürer (; German: [ˈʔalbʁɛçt ˈdyːʁɐ]; ...</td>\n",
       "      <td>http://en.wikipedia.org/wiki/Albrecht_Dürer</td>\n",
       "      <td>328</td>\n",
       "    </tr>\n",
       "    <tr>\n",
       "      <td>46</td>\n",
       "      <td>46</td>\n",
       "      <td>Paul Gauguin</td>\n",
       "      <td>1848 – 1903</td>\n",
       "      <td>Symbolism,Post-Impressionism</td>\n",
       "      <td>French</td>\n",
       "      <td>Eugène Henri Paul Gauguin (UK: , US: ; French:...</td>\n",
       "      <td>http://en.wikipedia.org/wiki/Paul_Gauguin</td>\n",
       "      <td>311</td>\n",
       "    </tr>\n",
       "  </tbody>\n",
       "</table>\n",
       "</div>"
      ],
      "text/plain": [
       "    id                   name        years                         genre  \\\n",
       "8    8       Vincent van Gogh  1853 – 1890            Post-Impressionism   \n",
       "30  30            Edgar Degas  1834 - 1917                 Impressionism   \n",
       "13  13          Pablo Picasso  1881 - 1973                        Cubism   \n",
       "15  15  Pierre-Auguste Renoir  1841 - 1919                 Impressionism   \n",
       "19  19         Albrecht Dürer  1471 - 1528          Northern Renaissance   \n",
       "46  46           Paul Gauguin  1848 – 1903  Symbolism,Post-Impressionism   \n",
       "\n",
       "   nationality                                                bio  \\\n",
       "8        Dutch  Vincent Willem van Gogh (Dutch: [ˈvɪnsɛnt ˈʋɪl...   \n",
       "30      French  Edgar Degas (US:  or UK: ; born Hilaire-Germai...   \n",
       "13     Spanish  Pablo Ruiz Picasso (; Spanish: [ˈpaβlo piˈkaso...   \n",
       "15      French  Pierre-Auguste Renoir, commonly known as Augus...   \n",
       "19      German  Albrecht Dürer (; German: [ˈʔalbʁɛçt ˈdyːʁɐ]; ...   \n",
       "46      French  Eugène Henri Paul Gauguin (UK: , US: ; French:...   \n",
       "\n",
       "                                            wikipedia  paintings  \n",
       "8       http://en.wikipedia.org/wiki/Vincent_van_Gogh        877  \n",
       "30           http://en.wikipedia.org/wiki/Edgar_Degas        702  \n",
       "13         http://en.wikipedia.org/wiki/Pablo_Picasso        439  \n",
       "15  http://en.wikipedia.org/wiki/Pierre-Auguste_Re...        336  \n",
       "19        http://en.wikipedia.org/wiki/Albrecht_Dürer        328  \n",
       "46          http://en.wikipedia.org/wiki/Paul_Gauguin        311  "
      ]
     },
     "execution_count": 4,
     "metadata": {},
     "output_type": "execute_result"
    }
   ],
   "source": [
    "df2 = df.sort_values(\"paintings\", ascending=False)[:6]\n",
    "df2"
   ]
  },
  {
   "cell_type": "code",
   "execution_count": 5,
   "metadata": {},
   "outputs": [],
   "source": [
    "IMAGES_DIR = DATA_DIR + \"/images_input\"\n",
    "artists = os.listdir(IMAGES_DIR)"
   ]
  },
  {
   "cell_type": "code",
   "execution_count": 6,
   "metadata": {},
   "outputs": [],
   "source": [
    "dim1_list = []\n",
    "dim2_list = []\n",
    "\n",
    "for artist in artists:\n",
    "    for image_filename in os.listdir(IMAGES_DIR + \"/\" + artist):\n",
    "        image = imread(IMAGES_DIR + \"/\" + artist + \"/\" +image_filename)\n",
    "        dim1 = image.shape[0]\n",
    "        dim2 = image.shape[1]\n",
    "        dim1_list.append(dim1)\n",
    "        dim2_list.append(dim2)"
   ]
  },
  {
   "cell_type": "code",
   "execution_count": 7,
   "metadata": {},
   "outputs": [
    {
     "name": "stdout",
     "output_type": "stream",
     "text": [
      "Median shape of artworks:        (1024.00, 1000.00)\n",
      "Average shape of artworks:       (1071.88, 1071.88)\n"
     ]
    },
    {
     "data": {
      "image/png": "[encoded data removed]",
      "text/plain": [
       "<Figure size 432x432 with 3 Axes>"
      ]
     },
     "metadata": {
      "needs_background": "light"
     },
     "output_type": "display_data"
    }
   ],
   "source": [
    "dim1_median = np.median(dim1_list)\n",
    "dim2_median = np.median(dim2_list)\n",
    "dim1_mean = np.mean(dim1_list)\n",
    "dim2_mean = np.mean(dim1_list)\n",
    "sns.jointplot(dim1_list, dim2_list)\n",
    "\n",
    "print(\"Median shape of artworks:        ({0:0.2f}, {1:0.2f})\".format(dim1_median, dim2_median))\n",
    "print(\"Average shape of artworks:       ({0:0.2f}, {1:0.2f})\".format(dim1_mean, dim2_mean))"
   ]
  },
  {
   "cell_type": "code",
   "execution_count": 8,
   "metadata": {},
   "outputs": [],
   "source": [
    "#image_shape = (1024, 1024, 3)\n",
    "image_shape = (256, 256, 3)"
   ]
  },
  {
   "cell_type": "markdown",
   "metadata": {},
   "source": [
    "## Data Augmentation"
   ]
  },
  {
   "cell_type": "code",
   "execution_count": 24,
   "metadata": {},
   "outputs": [
    {
     "name": "stdout",
     "output_type": "stream",
     "text": [
      "Found 2098 images belonging to 6 classes.\n",
      "Found 895 images belonging to 6 classes.\n"
     ]
    }
   ],
   "source": [
    "image_gen = ImageDataGenerator(validation_split=0.3,\n",
    "                               rescale=1/255,\n",
    "                               rotation_range=10,\n",
    "                               horizontal_flip=True,\n",
    "                               vertical_flip=True,\n",
    "                               zoom_range=0.1,\n",
    "                               shear_range=0.1)\n",
    "\n",
    "train_gen = image_gen.flow_from_directory(directory=IMAGES_DIR,\n",
    "                                          class_mode='categorical',\n",
    "                                          target_size=image_shape[:2],\n",
    "                                          batch_size = 32,\n",
    "                                          subset=\"training\",\n",
    "                                          shuffle=True,\n",
    "                                          classes=artists)\n",
    "\n",
    "test_gen = image_gen.flow_from_directory(directory=IMAGES_DIR,\n",
    "                                          class_mode='categorical',\n",
    "                                          target_size=image_shape[:2],\n",
    "                                          batch_size = 32,\n",
    "                                          subset=\"validation\",\n",
    "                                          shuffle=True,\n",
    "                                          classes=artists)"
   ]
  },
  {
   "cell_type": "markdown",
   "metadata": {},
   "source": [
    "## Building the CNN model"
   ]
  },
  {
   "cell_type": "code",
   "execution_count": 43,
   "metadata": {},
   "outputs": [],
   "source": [
    "model = Sequential()\n",
    "\n",
    "model.add(Conv2D(filters=32, kernel_size=(4,4),input_shape=image_shape, activation='relu'))\n",
    "model.add(MaxPooling2D(pool_size=(2, 2)))\n",
    "model.add(Dropout(0.2))\n",
    "\n",
    "model.add(Flatten())\n",
    "\n",
    "model.add(Dense(128, activation=\"relu\"))\n",
    "model.add(Dropout(0.5))\n",
    "model.add(Dense(6, activation=\"softmax\"))\n",
    "\n",
    "model.compile(loss='categorical_crossentropy',\n",
    "              optimizer='adam',\n",
    "              metrics=['accuracy'])\n",
    "\n",
    "early_stop = EarlyStopping(monitor='val_loss', mode='min', verbose=1, patience=5)"
   ]
  },
  {
   "cell_type": "code",
   "execution_count": 44,
   "metadata": {},
   "outputs": [
    {
     "name": "stdout",
     "output_type": "stream",
     "text": [
      "WARNING:tensorflow:sample_weight modes were coerced from\n",
      "  ...\n",
      "    to  \n",
      "  ['...']\n",
      "WARNING:tensorflow:sample_weight modes were coerced from\n",
      "  ...\n",
      "    to  \n",
      "  ['...']\n",
      "Train for 132 steps, validate for 56 steps\n",
      "Epoch 1/50\n",
      "132/132 [==============================] - 305s 2s/step - loss: 4.6689 - accuracy: 0.3084 - val_loss: 1.5567 - val_accuracy: 0.3385\n",
      "Epoch 2/50\n",
      "132/132 [==============================] - 306s 2s/step - loss: 1.5529 - accuracy: 0.3932 - val_loss: 1.5100 - val_accuracy: 0.4771\n",
      "Epoch 3/50\n",
      "132/132 [==============================] - 296s 2s/step - loss: 1.4732 - accuracy: 0.4409 - val_loss: 1.5670 - val_accuracy: 0.3743\n",
      "Epoch 4/50\n",
      "132/132 [==============================] - 287s 2s/step - loss: 1.4227 - accuracy: 0.4604 - val_loss: 1.3340 - val_accuracy: 0.5017\n",
      "Epoch 5/50\n",
      "132/132 [==============================] - 289s 2s/step - loss: 1.3746 - accuracy: 0.4976 - val_loss: 1.4049 - val_accuracy: 0.4436\n",
      "Epoch 6/50\n",
      "132/132 [==============================] - 290s 2s/step - loss: 1.3268 - accuracy: 0.4924 - val_loss: 1.2748 - val_accuracy: 0.5140\n",
      "Epoch 7/50\n",
      "132/132 [==============================] - 296s 2s/step - loss: 1.3154 - accuracy: 0.5110 - val_loss: 1.2635 - val_accuracy: 0.5196\n",
      "Epoch 8/50\n",
      "132/132 [==============================] - 290s 2s/step - loss: 1.3061 - accuracy: 0.4957 - val_loss: 1.2785 - val_accuracy: 0.4972\n",
      "Epoch 9/50\n",
      "132/132 [==============================] - 296s 2s/step - loss: 1.2915 - accuracy: 0.5000 - val_loss: 1.3617 - val_accuracy: 0.4603\n",
      "Epoch 10/50\n",
      "132/132 [==============================] - 291s 2s/step - loss: 1.2878 - accuracy: 0.5143 - val_loss: 1.3052 - val_accuracy: 0.4983\n",
      "Epoch 11/50\n",
      "132/132 [==============================] - 289s 2s/step - loss: 1.2688 - accuracy: 0.5157 - val_loss: 1.2315 - val_accuracy: 0.5173\n",
      "Epoch 12/50\n",
      "132/132 [==============================] - 291s 2s/step - loss: 1.2558 - accuracy: 0.5186 - val_loss: 1.2388 - val_accuracy: 0.5229\n",
      "Epoch 13/50\n",
      "132/132 [==============================] - 295s 2s/step - loss: 1.2390 - accuracy: 0.5186 - val_loss: 1.2081 - val_accuracy: 0.5285\n",
      "Epoch 14/50\n",
      "132/132 [==============================] - 288s 2s/step - loss: 1.2273 - accuracy: 0.5338 - val_loss: 1.2180 - val_accuracy: 0.5385\n",
      "Epoch 15/50\n",
      "132/132 [==============================] - 296s 2s/step - loss: 1.1981 - accuracy: 0.5424 - val_loss: 1.2539 - val_accuracy: 0.5240\n",
      "Epoch 16/50\n",
      "132/132 [==============================] - 288s 2s/step - loss: 1.1673 - accuracy: 0.5467 - val_loss: 1.2585 - val_accuracy: 0.5039\n",
      "Epoch 17/50\n",
      "132/132 [==============================] - 295s 2s/step - loss: 1.1737 - accuracy: 0.5496 - val_loss: 1.1709 - val_accuracy: 0.5453\n",
      "Epoch 18/50\n",
      "132/132 [==============================] - 306s 2s/step - loss: 1.1873 - accuracy: 0.5505 - val_loss: 1.2643 - val_accuracy: 0.5330\n",
      "Epoch 19/50\n",
      "132/132 [==============================] - 291s 2s/step - loss: 1.1709 - accuracy: 0.5458 - val_loss: 1.2231 - val_accuracy: 0.5330\n",
      "Epoch 20/50\n",
      "132/132 [==============================] - 284s 2s/step - loss: 1.1662 - accuracy: 0.5539 - val_loss: 1.1827 - val_accuracy: 0.5642\n",
      "Epoch 21/50\n",
      "132/132 [==============================] - 290s 2s/step - loss: 1.1594 - accuracy: 0.5520 - val_loss: 1.1876 - val_accuracy: 0.5486\n",
      "Epoch 22/50\n",
      "132/132 [==============================] - 286s 2s/step - loss: 1.1510 - accuracy: 0.5453 - val_loss: 1.1840 - val_accuracy: 0.5441\n",
      "Epoch 00022: early stopping\n"
     ]
    }
   ],
   "source": [
    "results = model.fit_generator(train_gen,epochs=50,\n",
    "                              validation_data=test_gen,\n",
    "                             callbacks=[early_stop])"
   ]
  },
  {
   "cell_type": "code",
   "execution_count": 28,
   "metadata": {},
   "outputs": [
    {
     "name": "stderr",
     "output_type": "stream",
     "text": [
      "C:\\ProgramData\\Anaconda3\\lib\\site-packages\\pandas\\plotting\\_matplotlib\\core.py:1085: UserWarning: Attempting to set identical left == right == 0.0 results in singular transformations; automatically expanding.\n",
      "  ax.set_xlim(left, right)\n",
      "C:\\ProgramData\\Anaconda3\\lib\\site-packages\\pandas\\plotting\\_matplotlib\\core.py:1085: UserWarning: Attempting to set identical left == right == 0.0 results in singular transformations; automatically expanding.\n",
      "  ax.set_xlim(left, right)\n"
     ]
    },
    {
     "data": {
      "text/plain": [
       "<matplotlib.axes._subplots.AxesSubplot at 0x5ad48708>"
      ]
     },
     "execution_count": 28,
     "metadata": {},
     "output_type": "execute_result"
    },
    {
     "data": {
      "image/png": "[encoded data removed]",
      "text/plain": [
       "<Figure size 432x288 with 1 Axes>"
      ]
     },
     "metadata": {
      "needs_background": "light"
     },
     "output_type": "display_data"
    }
   ],
   "source": [
    "losses = pd.DataFrame(model.history.history)\n",
    "losses[['loss','val_loss']].plot()"
   ]
  },
  {
   "cell_type": "code",
   "execution_count": 45,
   "metadata": {},
   "outputs": [
    {
     "data": {
      "text/plain": [
       "array([[1.85094686e-04, 6.05126500e-01, 3.67434658e-02, 2.93185618e-02,\n",
       "        2.32822299e-01, 9.58039463e-02],\n",
       "       [1.51238982e-02, 3.53684336e-01, 2.06182823e-01, 1.11998163e-01,\n",
       "        2.01725185e-01, 1.11285649e-01],\n",
       "       [3.12507676e-04, 4.79495943e-01, 1.07759289e-01, 2.18284894e-02,\n",
       "        2.23787174e-01, 1.66816488e-01],\n",
       "       ...,\n",
       "       [4.40814167e-01, 7.80102983e-02, 5.00946157e-02, 2.88929611e-01,\n",
       "        3.91306356e-02, 1.03020653e-01],\n",
       "       [1.41958147e-01, 3.25262904e-01, 7.68276304e-02, 1.62139446e-01,\n",
       "        1.53868929e-01, 1.39942989e-01],\n",
       "       [1.77741840e-01, 1.11415826e-01, 2.19821796e-01, 1.43013835e-01,\n",
       "        9.41360071e-02, 2.53870666e-01]], dtype=float32)"
      ]
     },
     "execution_count": 45,
     "metadata": {},
     "output_type": "execute_result"
    }
   ],
   "source": [
    "prediction_prob = model.predict(test_gen)\n",
    "prediction_prob"
   ]
  },
  {
   "cell_type": "code",
   "execution_count": null,
   "metadata": {},
   "outputs": [
    {
     "name": "stdout",
     "output_type": "stream",
     "text": [
      "WARNING:tensorflow:sample_weight modes were coerced from\n",
      "  ...\n",
      "    to  \n",
      "  ['...']\n",
      " 27/132 [=====>........................] - ETA: 2:09 - loss: 0.9981 - accuracy: 0.6412"
     ]
    }
   ],
   "source": [
    "model.evaluate_generator(train_gen, verbose=1)"
   ]
  },
  {
   "cell_type": "code",
   "execution_count": 30,
   "metadata": {},
   "outputs": [
    {
     "name": "stdout",
     "output_type": "stream",
     "text": [
      "WARNING:tensorflow:sample_weight modes were coerced from\n",
      "  ...\n",
      "    to  \n",
      "  ['...']\n",
      "56/56 [==============================] - 82s 1s/step - loss: 1.4499 - accuracy: 0.4335\n"
     ]
    },
    {
     "data": {
      "text/plain": [
       "[1.449904888868332, 0.43351954]"
      ]
     },
     "execution_count": 30,
     "metadata": {},
     "output_type": "execute_result"
    }
   ],
   "source": [
    "model.evaluate(test_gen, verbose=1)"
   ]
  },
  {
   "cell_type": "code",
   "execution_count": null,
   "metadata": {},
   "outputs": [],
   "source": []
  }
 ],
 "metadata": {
  "kernelspec": {
   "display_name": "Python 3",
   "language": "python",
   "name": "python3"
  },
  "language_info": {
   "codemirror_mode": {
    "name": "ipython",
    "version": 3
   },
   "file_extension": ".py",
   "mimetype": "text/x-python",
   "name": "python",
   "nbconvert_exporter": "python",
   "pygments_lexer": "ipython3",
   "version": "3.7.4"
  }
 },
 "nbformat": 4,
 "nbformat_minor": 2
}
